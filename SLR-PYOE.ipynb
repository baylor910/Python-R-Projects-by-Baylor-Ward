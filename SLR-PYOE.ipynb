{
 "cells": [
  {
   "cell_type": "markdown",
   "id": "cb9ca507",
   "metadata": {},
   "source": [
    "# Simple Linear Regression on Passing Yards and Yards-to-go"
   ]
  },
  {
   "cell_type": "markdown",
   "id": "53248285",
   "metadata": {},
   "source": [
    "# Introduction\n",
    "A breakthrough many years ago in football data was the creation of the RYOE statistc which attempted to measure RB effiency given a certain down and distance. I wanted to do this same thing, but with passing. I believe that passing, espically in the NFL, is a very hard thing to predict. There are simply way too many variables that are acting upon throwing the footbball."
   ]
  },
  {
   "cell_type": "markdown",
   "id": "d222dbec",
   "metadata": {},
   "source": [
    "## Loading Libraries and Data"
   ]
  },
  {
   "cell_type": "code",
   "execution_count": 223,
   "id": "4cee94b8",
   "metadata": {
    "vscode": {
     "languageId": "r"
    }
   },
   "outputs": [],
   "source": [
    "library(tidyverse)\n",
    "library(nflfastR)\n",
    "library(ggthemes)\n",
    "library(ggrepel)"
   ]
  },
  {
   "cell_type": "code",
   "execution_count": 224,
   "id": "1c6c4090",
   "metadata": {
    "vscode": {
     "languageId": "r"
    }
   },
   "outputs": [],
   "source": [
    "# load data\n",
    "pbp <- load_pbp(2023:2024)"
   ]
  },
  {
   "cell_type": "markdown",
   "id": "5676689a",
   "metadata": {},
   "source": [
    "## EDA"
   ]
  },
  {
   "cell_type": "code",
   "execution_count": 225,
   "id": "8bce0b9c",
   "metadata": {
    "vscode": {
     "languageId": "r"
    }
   },
   "outputs": [],
   "source": [
    "## filter for passing data\n",
    "pbp_r_passing <- pbp |>\n",
    "    filter(play_type == 'pass' & !is.na(passer_player_id)) |>\n",
    "    mutate(passing_yards = ifelse(\n",
    "        !is.na(passing_yards), passing_yards, 0\n",
    "    ))"
   ]
  },
  {
   "cell_type": "code",
   "execution_count": 226,
   "id": "95ad932a",
   "metadata": {
    "vscode": {
     "languageId": "r"
    }
   },
   "outputs": [],
   "source": [
    "## filter for NFC North teams\n",
    "pbp_p_nfc_north <- pbp_r_passing |>\n",
    "    filter(posteam %in% c('GB', 'MIN', 'CHI', 'DET') |\n",
    "               defteam %in% c('GB', 'MIN', 'CHI', 'DET'))"
   ]
  },
  {
   "cell_type": "code",
   "execution_count": 227,
   "id": "81c74a47",
   "metadata": {
    "vscode": {
     "languageId": "r"
    }
   },
   "outputs": [],
   "source": [
    "## filter for NFC East teams\n",
    "pbp_p_nfc_east <- pbp_r_passing |>\n",
    "    filter(posteam %in% c('NYG', 'PHI', 'WAS', 'DAL') |\n",
    "               defteam %in% c('NYG', 'PHI', 'WAS', 'DAL'))"
   ]
  },
  {
   "cell_type": "code",
   "execution_count": 228,
   "id": "f6cf594c",
   "metadata": {
    "vscode": {
     "languageId": "r"
    }
   },
   "outputs": [],
   "source": [
    "## scatter plot of passing yards vs yards to go for NFC North teams\n",
    "passing_plot_nfc_north <- ggplot(pbp_p_nfc_north,\n",
    "        aes(x = ydstogo, y = passing_yards)) +\n",
    "        geom_point() +\n",
    "        theme_bw()"
   ]
  },
  {
   "cell_type": "code",
   "execution_count": 229,
   "id": "ad8d1e26",
   "metadata": {
    "vscode": {
     "languageId": "r"
    }
   },
   "outputs": [
    {
     "data": {
      "image/png": "[encoded data removed]",
      "text/plain": [
       "plot without title"
      ]
     },
     "metadata": {
      "image/png": {
       "height": 420,
       "width": 420
      }
     },
     "output_type": "display_data"
    }
   ],
   "source": [
    "passing_plot_nfc_north +\n",
    "geom_smooth(method = 'lm', formula = y ~ x, color = 'firebrick')"
   ]
  },
  {
   "cell_type": "code",
   "execution_count": 230,
   "id": "4806d05a",
   "metadata": {
    "vscode": {
     "languageId": "r"
    }
   },
   "outputs": [],
   "source": [
    "## scatter plot of passing yards vs yards to go for NFC East teams\n",
    "passing_plot_nfc_east <- ggplot(pbp_p_nfc_east,\n",
    "        aes(x = ydstogo, y = passing_yards)) +\n",
    "        geom_point() +\n",
    "        theme_bw()"
   ]
  },
  {
   "cell_type": "code",
   "execution_count": 231,
   "id": "9ca70b83",
   "metadata": {
    "vscode": {
     "languageId": "r"
    }
   },
   "outputs": [
    {
     "data": {
      "image/png": "[encoded data removed]",
      "text/plain": [
       "plot without title"
      ]
     },
     "metadata": {
      "image/png": {
       "height": 420,
       "width": 420
      }
     },
     "output_type": "display_data"
    }
   ],
   "source": [
    "passing_plot_nfc_east +\n",
    "geom_smooth(method = 'lm', formula = y ~ x, color = 'firebrick')"
   ]
  },
  {
   "cell_type": "code",
   "execution_count": 232,
   "id": "96e39be6",
   "metadata": {
    "vscode": {
     "languageId": "r"
    }
   },
   "outputs": [
    {
     "data": {
      "text/html": [
       "<table class=\"dataframe\">\n",
       "<caption>A tibble: 6 × 2</caption>\n",
       "<thead>\n",
       "\t<tr><th scope=col>ydstogo</th><th scope=col>ypp</th></tr>\n",
       "\t<tr><th scope=col>&lt;dbl&gt;</th><th scope=col>&lt;dbl&gt;</th></tr>\n",
       "</thead>\n",
       "<tbody>\n",
       "\t<tr><td>0</td><td>0.000000</td></tr>\n",
       "\t<tr><td>1</td><td>6.280851</td></tr>\n",
       "\t<tr><td>2</td><td>5.847403</td></tr>\n",
       "\t<tr><td>3</td><td>5.536082</td></tr>\n",
       "\t<tr><td>4</td><td>5.874016</td></tr>\n",
       "\t<tr><td>5</td><td>6.376953</td></tr>\n",
       "</tbody>\n",
       "</table>\n"
      ],
      "text/latex": [
       "A tibble: 6 × 2\n",
       "\\begin{tabular}{ll}\n",
       " ydstogo & ypp\\\\\n",
       " <dbl> & <dbl>\\\\\n",
       "\\hline\n",
       "\t 0 & 0.000000\\\\\n",
       "\t 1 & 6.280851\\\\\n",
       "\t 2 & 5.847403\\\\\n",
       "\t 3 & 5.536082\\\\\n",
       "\t 4 & 5.874016\\\\\n",
       "\t 5 & 6.376953\\\\\n",
       "\\end{tabular}\n"
      ],
      "text/markdown": [
       "\n",
       "A tibble: 6 × 2\n",
       "\n",
       "| ydstogo &lt;dbl&gt; | ypp &lt;dbl&gt; |\n",
       "|---|---|\n",
       "| 0 | 0.000000 |\n",
       "| 1 | 6.280851 |\n",
       "| 2 | 5.847403 |\n",
       "| 3 | 5.536082 |\n",
       "| 4 | 5.874016 |\n",
       "| 5 | 6.376953 |\n",
       "\n"
      ],
      "text/plain": [
       "  ydstogo ypp     \n",
       "1 0       0.000000\n",
       "2 1       6.280851\n",
       "3 2       5.847403\n",
       "4 3       5.536082\n",
       "5 4       5.874016\n",
       "6 5       6.376953"
      ]
     },
     "metadata": {},
     "output_type": "display_data"
    },
    {
     "data": {
      "text/html": [
       "<table class=\"dataframe\">\n",
       "<caption>A tibble: 6 × 2</caption>\n",
       "<thead>\n",
       "\t<tr><th scope=col>ydstogo</th><th scope=col>ypp</th></tr>\n",
       "\t<tr><th scope=col>&lt;dbl&gt;</th><th scope=col>&lt;dbl&gt;</th></tr>\n",
       "</thead>\n",
       "<tbody>\n",
       "\t<tr><td>0</td><td>0.000000</td></tr>\n",
       "\t<tr><td>1</td><td>5.073276</td></tr>\n",
       "\t<tr><td>2</td><td>5.932384</td></tr>\n",
       "\t<tr><td>3</td><td>5.309038</td></tr>\n",
       "\t<tr><td>4</td><td>6.680693</td></tr>\n",
       "\t<tr><td>5</td><td>5.955975</td></tr>\n",
       "</tbody>\n",
       "</table>\n"
      ],
      "text/latex": [
       "A tibble: 6 × 2\n",
       "\\begin{tabular}{ll}\n",
       " ydstogo & ypp\\\\\n",
       " <dbl> & <dbl>\\\\\n",
       "\\hline\n",
       "\t 0 & 0.000000\\\\\n",
       "\t 1 & 5.073276\\\\\n",
       "\t 2 & 5.932384\\\\\n",
       "\t 3 & 5.309038\\\\\n",
       "\t 4 & 6.680693\\\\\n",
       "\t 5 & 5.955975\\\\\n",
       "\\end{tabular}\n"
      ],
      "text/markdown": [
       "\n",
       "A tibble: 6 × 2\n",
       "\n",
       "| ydstogo &lt;dbl&gt; | ypp &lt;dbl&gt; |\n",
       "|---|---|\n",
       "| 0 | 0.000000 |\n",
       "| 1 | 5.073276 |\n",
       "| 2 | 5.932384 |\n",
       "| 3 | 5.309038 |\n",
       "| 4 | 6.680693 |\n",
       "| 5 | 5.955975 |\n",
       "\n"
      ],
      "text/plain": [
       "  ydstogo ypp     \n",
       "1 0       0.000000\n",
       "2 1       5.073276\n",
       "3 2       5.932384\n",
       "4 3       5.309038\n",
       "5 4       6.680693\n",
       "6 5       5.955975"
      ]
     },
     "metadata": {},
     "output_type": "display_data"
    }
   ],
   "source": [
    "## Averages for NFC North\n",
    "pbp_p_nfc_north_averages <- pbp_p_nfc_north |>\n",
    "    group_by(ydstogo) |>\n",
    "    summarize(ypp = mean(passing_yards))\n",
    "\n",
    "## Averages for NFC East\n",
    "pbp_p_nfc_east_averages <- pbp_p_nfc_east |>\n",
    "    group_by(ydstogo) |>\n",
    "    summarize(ypp = mean(passing_yards))\n",
    "\n",
    "head(pbp_p_nfc_north_averages)\n",
    "head(pbp_p_nfc_east_averages)"
   ]
  },
  {
   "cell_type": "code",
   "execution_count": 233,
   "id": "191724cd",
   "metadata": {
    "vscode": {
     "languageId": "r"
    }
   },
   "outputs": [
    {
     "data": {
      "image/png": "[encoded data removed]",
      "text/plain": [
       "plot without title"
      ]
     },
     "metadata": {
      "image/png": {
       "height": 420,
       "width": 420
      }
     },
     "output_type": "display_data"
    },
    {
     "data": {
      "image/png": "[encoded data removed]",
      "text/plain": [
       "plot without title"
      ]
     },
     "metadata": {
      "image/png": {
       "height": 420,
       "width": 420
      }
     },
     "output_type": "display_data"
    }
   ],
   "source": [
    "## plot nfc north averages\n",
    "ggplot(pbp_p_nfc_north_averages, aes(x = ydstogo, y = ypp)) +\n",
    "    geom_point() +\n",
    "    theme_bw() +\n",
    "    stat_smooth(method = 'lm', se = FALSE, formula = y ~ x)\n",
    "\n",
    "## plot nfc east averages\n",
    "ggplot(pbp_p_nfc_east_averages, aes(x = ydstogo, y = ypp)) +\n",
    "    geom_point() +\n",
    "    theme_bw() +\n",
    "    stat_smooth(method = 'lm', se = FALSE, formula = y ~ x)"
   ]
  },
  {
   "cell_type": "markdown",
   "id": "5c658b35",
   "metadata": {},
   "source": [
    "## Modeling the Data"
   ]
  },
  {
   "cell_type": "code",
   "execution_count": 234,
   "id": "7cd185b5",
   "metadata": {
    "vscode": {
     "languageId": "r"
    }
   },
   "outputs": [],
   "source": [
    "## Create fitted model objects\n",
    "model_nfc_north <- lm(passing_yards ~ 1 + ydstogo, data = pbp_p_nfc_north)\n",
    "model_nfc_east <- lm(passing_yards ~ 1 + ydstogo, data = pbp_p_nfc_east)"
   ]
  },
  {
   "cell_type": "code",
   "execution_count": 235,
   "id": "5a68e5ff",
   "metadata": {
    "vscode": {
     "languageId": "r"
    }
   },
   "outputs": [
    {
     "data": {
      "text/plain": [
       "\n",
       "Call:\n",
       "lm(formula = passing_yards ~ 1 + ydstogo, data = pbp_p_nfc_north)\n",
       "\n",
       "Residuals:\n",
       "    Min      1Q  Median      3Q     Max \n",
       "-17.046  -6.748  -3.029   3.393  90.971 \n",
       "\n",
       "Coefficients:\n",
       "            Estimate Std. Error t value Pr(>|t|)    \n",
       "(Intercept)  5.62430    0.24362  23.086  < 2e-16 ***\n",
       "ydstogo      0.14045    0.02512   5.591 2.32e-08 ***\n",
       "---\n",
       "Signif. codes:  0 '***' 0.001 '**' 0.01 '*' 0.05 '.' 0.1 ' ' 1\n",
       "\n",
       "Residual standard error: 9.561 on 8676 degrees of freedom\n",
       "Multiple R-squared:  0.00359,\tAdjusted R-squared:  0.003475 \n",
       "F-statistic: 31.26 on 1 and 8676 DF,  p-value: 2.325e-08\n"
      ]
     },
     "metadata": {},
     "output_type": "display_data"
    },
    {
     "data": {
      "text/plain": [
       "\n",
       "Call:\n",
       "lm(formula = passing_yards ~ 1 + ydstogo, data = pbp_p_nfc_east)\n",
       "\n",
       "Residuals:\n",
       "    Min      1Q  Median      3Q     Max \n",
       "-18.046  -6.547  -2.881   3.203  85.120 \n",
       "\n",
       "Coefficients:\n",
       "            Estimate Std. Error t value Pr(>|t|)    \n",
       "(Intercept)  5.79976    0.24649  23.530  < 2e-16 ***\n",
       "ydstogo      0.08307    0.02542   3.269  0.00109 ** \n",
       "---\n",
       "Signif. codes:  0 '***' 0.001 '**' 0.01 '*' 0.05 '.' 0.1 ' ' 1\n",
       "\n",
       "Residual standard error: 9.436 on 8556 degrees of freedom\n",
       "Multiple R-squared:  0.001247,\tAdjusted R-squared:  0.00113 \n",
       "F-statistic: 10.68 on 1 and 8556 DF,  p-value: 0.001085\n"
      ]
     },
     "metadata": {},
     "output_type": "display_data"
    }
   ],
   "source": [
    "## Model Summaries\n",
    "summary(model_nfc_north)\n",
    "summary(model_nfc_east)"
   ]
  },
  {
   "cell_type": "code",
   "execution_count": 236,
   "id": "920fce0c",
   "metadata": {
    "vscode": {
     "languageId": "r"
    }
   },
   "outputs": [
    {
     "data": {
      "text/html": [
       "<style>\n",
       ".dl-inline {width: auto; margin:0; padding: 0}\n",
       ".dl-inline>dt, .dl-inline>dd {float: none; width: auto; display: inline-block}\n",
       ".dl-inline>dt::after {content: \":\\0020\"; padding-right: .5ex}\n",
       ".dl-inline>dt:not(:first-of-type) {padding-left: .5ex}\n",
       "</style><dl class=dl-inline><dt>1</dt><dd>-6.04566508864767</dd><dt>2</dt><dd>-6.04566508865695</dd><dt>3</dt><dd>4.09478902652212</dd><dt>4</dt><dd>-2.02884389491712</dd><dt>5</dt><dd>-6.32657331901759</dd><dt>6</dt><dd>-6.6074815493774</dd></dl>\n"
      ],
      "text/latex": [
       "\\begin{description*}\n",
       "\\item[1] -6.04566508864767\n",
       "\\item[2] -6.04566508865695\n",
       "\\item[3] 4.09478902652212\n",
       "\\item[4] -2.02884389491712\n",
       "\\item[5] -6.32657331901759\n",
       "\\item[6] -6.6074815493774\n",
       "\\end{description*}\n"
      ],
      "text/markdown": [
       "1\n",
       ":   -6.045665088647672\n",
       ":   -6.045665088656953\n",
       ":   4.094789026522124\n",
       ":   -2.028843894917125\n",
       ":   -6.326573319017596\n",
       ":   -6.6074815493774\n",
       "\n"
      ],
      "text/plain": [
       "        1         2         3         4         5         6 \n",
       "-6.045665 -6.045665  4.094789 -2.028844 -6.326573 -6.607482 "
      ]
     },
     "metadata": {},
     "output_type": "display_data"
    },
    {
     "data": {
      "text/html": [
       "<style>\n",
       ".dl-inline {width: auto; margin:0; padding: 0}\n",
       ".dl-inline>dt, .dl-inline>dd {float: none; width: auto; display: inline-block}\n",
       ".dl-inline>dt::after {content: \":\\0020\"; padding-right: .5ex}\n",
       ".dl-inline>dt:not(:first-of-type) {padding-left: .5ex}\n",
       "</style><dl class=dl-inline><dt>1</dt><dd>-0.381285960426911</dd><dt>2</dt><dd>-6.63051041415459</dd><dt>3</dt><dd>5.36948958584407</dd><dt>4</dt><dd>-5.63051041415593</dd><dt>5</dt><dd>-6.54743559624785</dd><dt>6</dt><dd>-4.54743559624785</dd></dl>\n"
      ],
      "text/latex": [
       "\\begin{description*}\n",
       "\\item[1] -0.381285960426911\n",
       "\\item[2] -6.63051041415459\n",
       "\\item[3] 5.36948958584407\n",
       "\\item[4] -5.63051041415593\n",
       "\\item[5] -6.54743559624785\n",
       "\\item[6] -4.54743559624785\n",
       "\\end{description*}\n"
      ],
      "text/markdown": [
       "1\n",
       ":   -0.3812859604269112\n",
       ":   -6.630510414154593\n",
       ":   5.369489585844074\n",
       ":   -5.630510414155935\n",
       ":   -6.547435596247856\n",
       ":   -4.54743559624785\n",
       "\n"
      ],
      "text/plain": [
       "        1         2         3         4         5         6 \n",
       "-0.381286 -6.630510  5.369490 -5.630510 -6.547436 -4.547436 "
      ]
     },
     "metadata": {},
     "output_type": "display_data"
    }
   ],
   "source": [
    "## Add residuals to dataframes\n",
    "pbp_p_nfc_north <- pbp_p_nfc_north |>\n",
    "    mutate(pyoe = resid(model_nfc_north))\n",
    "\n",
    "pbp_p_nfc_east <- pbp_p_nfc_east |>\n",
    "    mutate(pyoe = resid(model_nfc_east))\n",
    "\n",
    "head(pbp_p_nfc_north$pyoe)\n",
    "head(pbp_p_nfc_east$pyoe)"
   ]
  },
  {
   "cell_type": "code",
   "execution_count": 237,
   "id": "ac16af07",
   "metadata": {
    "vscode": {
     "languageId": "r"
    }
   },
   "outputs": [
    {
     "name": "stderr",
     "output_type": "stream",
     "text": [
      "\u001b[1m\u001b[22m`summarise()` has grouped output by 'season', 'passer_player_id'. You can\n",
      "override using the `.groups` argument.\n",
      "\u001b[1m\u001b[22m`summarise()` has grouped output by 'season', 'passer_player_id'. You can\n",
      "override using the `.groups` argument.\n",
      "\u001b[1m\u001b[22m`summarise()` has grouped output by 'season', 'passer_player_id'. You can\n",
      "override using the `.groups` argument.\n"
     ]
    },
    {
     "data": {
      "text/html": [
       "<table class=\"dataframe\">\n",
       "<caption>A grouped_df: 6 × 8</caption>\n",
       "<thead>\n",
       "\t<tr><th scope=col>season</th><th scope=col>passer_player_id</th><th scope=col>passer_player_name</th><th scope=col>attempts</th><th scope=col>total_passing_yards</th><th scope=col>ypa</th><th scope=col>pyoe_total</th><th scope=col>pyoe_per</th></tr>\n",
       "\t<tr><th scope=col>&lt;int&gt;</th><th scope=col>&lt;chr&gt;</th><th scope=col>&lt;chr&gt;</th><th scope=col>&lt;int&gt;</th><th scope=col>&lt;dbl&gt;</th><th scope=col>&lt;dbl&gt;</th><th scope=col>&lt;dbl&gt;</th><th scope=col>&lt;dbl&gt;</th></tr>\n",
       "</thead>\n",
       "<tbody>\n",
       "\t<tr><td>2024</td><td>00-0033106</td><td>J.Goff   </td><td>607</td><td>4942</td><td>8.141680</td><td>807.37817</td><td>1.3301123</td></tr>\n",
       "\t<tr><td>2024</td><td>00-0036264</td><td>J.Love   </td><td>477</td><td>3601</td><td>7.549266</td><td>333.77802</td><td>0.6997443</td></tr>\n",
       "\t<tr><td>2023</td><td>00-0033106</td><td>J.Goff   </td><td>754</td><td>5412</td><td>7.177719</td><td>267.17259</td><td>0.3543403</td></tr>\n",
       "\t<tr><td>2024</td><td>00-0034869</td><td>S.Darnold</td><td>643</td><td>4564</td><td>7.097978</td><td>144.31625</td><td>0.2244421</td></tr>\n",
       "\t<tr><td>2023</td><td>00-0029604</td><td>K.Cousins</td><td>326</td><td>2331</td><td>7.150307</td><td>107.15532</td><td>0.3286973</td></tr>\n",
       "\t<tr><td>2023</td><td>00-0036264</td><td>J.Love   </td><td>665</td><td>4625</td><td>6.954887</td><td> 86.91885</td><td>0.1307050</td></tr>\n",
       "</tbody>\n",
       "</table>\n"
      ],
      "text/latex": [
       "A grouped\\_df: 6 × 8\n",
       "\\begin{tabular}{llllllll}\n",
       " season & passer\\_player\\_id & passer\\_player\\_name & attempts & total\\_passing\\_yards & ypa & pyoe\\_total & pyoe\\_per\\\\\n",
       " <int> & <chr> & <chr> & <int> & <dbl> & <dbl> & <dbl> & <dbl>\\\\\n",
       "\\hline\n",
       "\t 2024 & 00-0033106 & J.Goff    & 607 & 4942 & 8.141680 & 807.37817 & 1.3301123\\\\\n",
       "\t 2024 & 00-0036264 & J.Love    & 477 & 3601 & 7.549266 & 333.77802 & 0.6997443\\\\\n",
       "\t 2023 & 00-0033106 & J.Goff    & 754 & 5412 & 7.177719 & 267.17259 & 0.3543403\\\\\n",
       "\t 2024 & 00-0034869 & S.Darnold & 643 & 4564 & 7.097978 & 144.31625 & 0.2244421\\\\\n",
       "\t 2023 & 00-0029604 & K.Cousins & 326 & 2331 & 7.150307 & 107.15532 & 0.3286973\\\\\n",
       "\t 2023 & 00-0036264 & J.Love    & 665 & 4625 & 6.954887 &  86.91885 & 0.1307050\\\\\n",
       "\\end{tabular}\n"
      ],
      "text/markdown": [
       "\n",
       "A grouped_df: 6 × 8\n",
       "\n",
       "| season &lt;int&gt; | passer_player_id &lt;chr&gt; | passer_player_name &lt;chr&gt; | attempts &lt;int&gt; | total_passing_yards &lt;dbl&gt; | ypa &lt;dbl&gt; | pyoe_total &lt;dbl&gt; | pyoe_per &lt;dbl&gt; |\n",
       "|---|---|---|---|---|---|---|---|\n",
       "| 2024 | 00-0033106 | J.Goff    | 607 | 4942 | 8.141680 | 807.37817 | 1.3301123 |\n",
       "| 2024 | 00-0036264 | J.Love    | 477 | 3601 | 7.549266 | 333.77802 | 0.6997443 |\n",
       "| 2023 | 00-0033106 | J.Goff    | 754 | 5412 | 7.177719 | 267.17259 | 0.3543403 |\n",
       "| 2024 | 00-0034869 | S.Darnold | 643 | 4564 | 7.097978 | 144.31625 | 0.2244421 |\n",
       "| 2023 | 00-0029604 | K.Cousins | 326 | 2331 | 7.150307 | 107.15532 | 0.3286973 |\n",
       "| 2023 | 00-0036264 | J.Love    | 665 | 4625 | 6.954887 |  86.91885 | 0.1307050 |\n",
       "\n"
      ],
      "text/plain": [
       "  season passer_player_id passer_player_name attempts total_passing_yards\n",
       "1 2024   00-0033106       J.Goff             607      4942               \n",
       "2 2024   00-0036264       J.Love             477      3601               \n",
       "3 2023   00-0033106       J.Goff             754      5412               \n",
       "4 2024   00-0034869       S.Darnold          643      4564               \n",
       "5 2023   00-0029604       K.Cousins          326      2331               \n",
       "6 2023   00-0036264       J.Love             665      4625               \n",
       "  ypa      pyoe_total pyoe_per \n",
       "1 8.141680 807.37817  1.3301123\n",
       "2 7.549266 333.77802  0.6997443\n",
       "3 7.177719 267.17259  0.3543403\n",
       "4 7.097978 144.31625  0.2244421\n",
       "5 7.150307 107.15532  0.3286973\n",
       "6 6.954887  86.91885  0.1307050"
      ]
     },
     "metadata": {},
     "output_type": "display_data"
    },
    {
     "data": {
      "text/html": [
       "<table class=\"dataframe\">\n",
       "<caption>A grouped_df: 6 × 8</caption>\n",
       "<thead>\n",
       "\t<tr><th scope=col>season</th><th scope=col>passer_player_id</th><th scope=col>passer_player_name</th><th scope=col>attempts</th><th scope=col>total_passing_yards</th><th scope=col>ypa</th><th scope=col>pyoe_total</th><th scope=col>pyoe_per</th></tr>\n",
       "\t<tr><th scope=col>&lt;int&gt;</th><th scope=col>&lt;chr&gt;</th><th scope=col>&lt;chr&gt;</th><th scope=col>&lt;int&gt;</th><th scope=col>&lt;dbl&gt;</th><th scope=col>&lt;dbl&gt;</th><th scope=col>&lt;dbl&gt;</th><th scope=col>&lt;dbl&gt;</th></tr>\n",
       "</thead>\n",
       "<tbody>\n",
       "\t<tr><td>2023</td><td>00-0033077</td><td>D.Prescott</td><td>695</td><td>4919</td><td>7.077698</td><td> 405.16826</td><td> 0.58297591</td></tr>\n",
       "\t<tr><td>2024</td><td>00-0036389</td><td>J.Hurts   </td><td>503</td><td>3629</td><td>7.214712</td><td> 340.12594</td><td> 0.67619470</td></tr>\n",
       "\t<tr><td>2024</td><td>00-0039910</td><td>J.Daniels </td><td>648</td><td>4390</td><td>6.774691</td><td> 166.95047</td><td> 0.25763961</td></tr>\n",
       "\t<tr><td>2023</td><td>00-0036389</td><td>J.Hurts   </td><td>613</td><td>4108</td><td>6.701468</td><td>  93.59123</td><td> 0.15267738</td></tr>\n",
       "\t<tr><td>2024</td><td>00-0033077</td><td>D.Prescott</td><td>307</td><td>1978</td><td>6.442997</td><td> -28.82281</td><td>-0.09388538</td></tr>\n",
       "\t<tr><td>2024</td><td>00-0033662</td><td>C.Rush    </td><td>321</td><td>1844</td><td>5.744548</td><td>-252.99156</td><td>-0.78813571</td></tr>\n",
       "</tbody>\n",
       "</table>\n"
      ],
      "text/latex": [
       "A grouped\\_df: 6 × 8\n",
       "\\begin{tabular}{llllllll}\n",
       " season & passer\\_player\\_id & passer\\_player\\_name & attempts & total\\_passing\\_yards & ypa & pyoe\\_total & pyoe\\_per\\\\\n",
       " <int> & <chr> & <chr> & <int> & <dbl> & <dbl> & <dbl> & <dbl>\\\\\n",
       "\\hline\n",
       "\t 2023 & 00-0033077 & D.Prescott & 695 & 4919 & 7.077698 &  405.16826 &  0.58297591\\\\\n",
       "\t 2024 & 00-0036389 & J.Hurts    & 503 & 3629 & 7.214712 &  340.12594 &  0.67619470\\\\\n",
       "\t 2024 & 00-0039910 & J.Daniels  & 648 & 4390 & 6.774691 &  166.95047 &  0.25763961\\\\\n",
       "\t 2023 & 00-0036389 & J.Hurts    & 613 & 4108 & 6.701468 &   93.59123 &  0.15267738\\\\\n",
       "\t 2024 & 00-0033077 & D.Prescott & 307 & 1978 & 6.442997 &  -28.82281 & -0.09388538\\\\\n",
       "\t 2024 & 00-0033662 & C.Rush     & 321 & 1844 & 5.744548 & -252.99156 & -0.78813571\\\\\n",
       "\\end{tabular}\n"
      ],
      "text/markdown": [
       "\n",
       "A grouped_df: 6 × 8\n",
       "\n",
       "| season &lt;int&gt; | passer_player_id &lt;chr&gt; | passer_player_name &lt;chr&gt; | attempts &lt;int&gt; | total_passing_yards &lt;dbl&gt; | ypa &lt;dbl&gt; | pyoe_total &lt;dbl&gt; | pyoe_per &lt;dbl&gt; |\n",
       "|---|---|---|---|---|---|---|---|\n",
       "| 2023 | 00-0033077 | D.Prescott | 695 | 4919 | 7.077698 |  405.16826 |  0.58297591 |\n",
       "| 2024 | 00-0036389 | J.Hurts    | 503 | 3629 | 7.214712 |  340.12594 |  0.67619470 |\n",
       "| 2024 | 00-0039910 | J.Daniels  | 648 | 4390 | 6.774691 |  166.95047 |  0.25763961 |\n",
       "| 2023 | 00-0036389 | J.Hurts    | 613 | 4108 | 6.701468 |   93.59123 |  0.15267738 |\n",
       "| 2024 | 00-0033077 | D.Prescott | 307 | 1978 | 6.442997 |  -28.82281 | -0.09388538 |\n",
       "| 2024 | 00-0033662 | C.Rush     | 321 | 1844 | 5.744548 | -252.99156 | -0.78813571 |\n",
       "\n"
      ],
      "text/plain": [
       "  season passer_player_id passer_player_name attempts total_passing_yards\n",
       "1 2023   00-0033077       D.Prescott         695      4919               \n",
       "2 2024   00-0036389       J.Hurts            503      3629               \n",
       "3 2024   00-0039910       J.Daniels          648      4390               \n",
       "4 2023   00-0036389       J.Hurts            613      4108               \n",
       "5 2024   00-0033077       D.Prescott         307      1978               \n",
       "6 2024   00-0033662       C.Rush             321      1844               \n",
       "  ypa      pyoe_total pyoe_per   \n",
       "1 7.077698  405.16826  0.58297591\n",
       "2 7.214712  340.12594  0.67619470\n",
       "3 6.774691  166.95047  0.25763961\n",
       "4 6.701468   93.59123  0.15267738\n",
       "5 6.442997  -28.82281 -0.09388538\n",
       "6 5.744548 -252.99156 -0.78813571"
      ]
     },
     "metadata": {},
     "output_type": "display_data"
    }
   ],
   "source": [
    "nfc_north_pyoe <- pbp_p_nfc_north |>\n",
    "    group_by(season, passer_player_id, passer_player_name) |>\n",
    "    summarize(\n",
    "        attempts = n(),\n",
    "        total_passing_yards = sum(passing_yards),\n",
    "        ypa = mean(passing_yards),\n",
    "        pyoe_total = sum(pyoe),\n",
    "        pyoe_per = mean(pyoe)\n",
    "    ) |>\n",
    "    filter(attempts >= 200) |>\n",
    "    arrange(desc(pyoe_total))\n",
    "\n",
    "nfc_east_pyoe <- pbp_p_nfc_east |>\n",
    "    group_by(season, passer_player_id, passer_player_name) |>\n",
    "    summarize(\n",
    "        attempts = n(),\n",
    "        total_passing_yards = sum(passing_yards),\n",
    "        ypa = mean(passing_yards),\n",
    "        pyoe_total = sum(pyoe),\n",
    "        pyoe_per = mean(pyoe)\n",
    "    ) |>\n",
    "    filter(attempts >= 200) |>\n",
    "    arrange(desc(pyoe_total))\n",
    "\n",
    "head(nfc_north_pyoe)\n",
    "head(nfc_east_pyoe)"
   ]
  },
  {
   "cell_type": "code",
   "execution_count": 238,
   "id": "98c30bfd",
   "metadata": {
    "vscode": {
     "languageId": "r"
    }
   },
   "outputs": [
    {
     "data": {
      "text/html": [
       "<table class=\"dataframe\">\n",
       "<caption>A grouped_df: 8 × 8</caption>\n",
       "<thead>\n",
       "\t<tr><th scope=col>season</th><th scope=col>passer_player_id</th><th scope=col>passer_player_name</th><th scope=col>attempts</th><th scope=col>total_passing_yards</th><th scope=col>ypa</th><th scope=col>pyoe_total</th><th scope=col>pyoe_per</th></tr>\n",
       "\t<tr><th scope=col>&lt;int&gt;</th><th scope=col>&lt;chr&gt;</th><th scope=col>&lt;chr&gt;</th><th scope=col>&lt;int&gt;</th><th scope=col>&lt;dbl&gt;</th><th scope=col>&lt;dbl&gt;</th><th scope=col>&lt;dbl&gt;</th><th scope=col>&lt;dbl&gt;</th></tr>\n",
       "</thead>\n",
       "<tbody>\n",
       "\t<tr><td>2024</td><td>00-0033106</td><td>J.Goff    </td><td>607</td><td>4942</td><td>8.141680</td><td> 807.37817</td><td> 1.3301123</td></tr>\n",
       "\t<tr><td>2024</td><td>00-0036264</td><td>J.Love    </td><td>477</td><td>3601</td><td>7.549266</td><td> 333.77802</td><td> 0.6997443</td></tr>\n",
       "\t<tr><td>2023</td><td>00-0033106</td><td>J.Goff    </td><td>754</td><td>5412</td><td>7.177719</td><td> 267.17259</td><td> 0.3543403</td></tr>\n",
       "\t<tr><td>2023</td><td>00-0029604</td><td>K.Cousins </td><td>326</td><td>2331</td><td>7.150307</td><td> 107.15532</td><td> 0.3286973</td></tr>\n",
       "\t<tr><td>2024</td><td>00-0034869</td><td>S.Darnold </td><td>643</td><td>4564</td><td>7.097978</td><td> 144.31625</td><td> 0.2244421</td></tr>\n",
       "\t<tr><td>2023</td><td>00-0036264</td><td>J.Love    </td><td>665</td><td>4625</td><td>6.954887</td><td>  86.91885</td><td> 0.1307050</td></tr>\n",
       "\t<tr><td>2023</td><td>00-0036945</td><td>J.Fields  </td><td>416</td><td>2562</td><td>6.158654</td><td>-312.98057</td><td>-0.7523571</td></tr>\n",
       "\t<tr><td>2024</td><td>00-0039918</td><td>C.Williams</td><td>636</td><td>3541</td><td>5.567610</td><td>-839.03272</td><td>-1.3192338</td></tr>\n",
       "</tbody>\n",
       "</table>\n"
      ],
      "text/latex": [
       "A grouped\\_df: 8 × 8\n",
       "\\begin{tabular}{llllllll}\n",
       " season & passer\\_player\\_id & passer\\_player\\_name & attempts & total\\_passing\\_yards & ypa & pyoe\\_total & pyoe\\_per\\\\\n",
       " <int> & <chr> & <chr> & <int> & <dbl> & <dbl> & <dbl> & <dbl>\\\\\n",
       "\\hline\n",
       "\t 2024 & 00-0033106 & J.Goff     & 607 & 4942 & 8.141680 &  807.37817 &  1.3301123\\\\\n",
       "\t 2024 & 00-0036264 & J.Love     & 477 & 3601 & 7.549266 &  333.77802 &  0.6997443\\\\\n",
       "\t 2023 & 00-0033106 & J.Goff     & 754 & 5412 & 7.177719 &  267.17259 &  0.3543403\\\\\n",
       "\t 2023 & 00-0029604 & K.Cousins  & 326 & 2331 & 7.150307 &  107.15532 &  0.3286973\\\\\n",
       "\t 2024 & 00-0034869 & S.Darnold  & 643 & 4564 & 7.097978 &  144.31625 &  0.2244421\\\\\n",
       "\t 2023 & 00-0036264 & J.Love     & 665 & 4625 & 6.954887 &   86.91885 &  0.1307050\\\\\n",
       "\t 2023 & 00-0036945 & J.Fields   & 416 & 2562 & 6.158654 & -312.98057 & -0.7523571\\\\\n",
       "\t 2024 & 00-0039918 & C.Williams & 636 & 3541 & 5.567610 & -839.03272 & -1.3192338\\\\\n",
       "\\end{tabular}\n"
      ],
      "text/markdown": [
       "\n",
       "A grouped_df: 8 × 8\n",
       "\n",
       "| season &lt;int&gt; | passer_player_id &lt;chr&gt; | passer_player_name &lt;chr&gt; | attempts &lt;int&gt; | total_passing_yards &lt;dbl&gt; | ypa &lt;dbl&gt; | pyoe_total &lt;dbl&gt; | pyoe_per &lt;dbl&gt; |\n",
       "|---|---|---|---|---|---|---|---|\n",
       "| 2024 | 00-0033106 | J.Goff     | 607 | 4942 | 8.141680 |  807.37817 |  1.3301123 |\n",
       "| 2024 | 00-0036264 | J.Love     | 477 | 3601 | 7.549266 |  333.77802 |  0.6997443 |\n",
       "| 2023 | 00-0033106 | J.Goff     | 754 | 5412 | 7.177719 |  267.17259 |  0.3543403 |\n",
       "| 2023 | 00-0029604 | K.Cousins  | 326 | 2331 | 7.150307 |  107.15532 |  0.3286973 |\n",
       "| 2024 | 00-0034869 | S.Darnold  | 643 | 4564 | 7.097978 |  144.31625 |  0.2244421 |\n",
       "| 2023 | 00-0036264 | J.Love     | 665 | 4625 | 6.954887 |   86.91885 |  0.1307050 |\n",
       "| 2023 | 00-0036945 | J.Fields   | 416 | 2562 | 6.158654 | -312.98057 | -0.7523571 |\n",
       "| 2024 | 00-0039918 | C.Williams | 636 | 3541 | 5.567610 | -839.03272 | -1.3192338 |\n",
       "\n"
      ],
      "text/plain": [
       "  season passer_player_id passer_player_name attempts total_passing_yards\n",
       "1 2024   00-0033106       J.Goff             607      4942               \n",
       "2 2024   00-0036264       J.Love             477      3601               \n",
       "3 2023   00-0033106       J.Goff             754      5412               \n",
       "4 2023   00-0029604       K.Cousins          326      2331               \n",
       "5 2024   00-0034869       S.Darnold          643      4564               \n",
       "6 2023   00-0036264       J.Love             665      4625               \n",
       "7 2023   00-0036945       J.Fields           416      2562               \n",
       "8 2024   00-0039918       C.Williams         636      3541               \n",
       "  ypa      pyoe_total pyoe_per  \n",
       "1 8.141680  807.37817  1.3301123\n",
       "2 7.549266  333.77802  0.6997443\n",
       "3 7.177719  267.17259  0.3543403\n",
       "4 7.150307  107.15532  0.3286973\n",
       "5 7.097978  144.31625  0.2244421\n",
       "6 6.954887   86.91885  0.1307050\n",
       "7 6.158654 -312.98057 -0.7523571\n",
       "8 5.567610 -839.03272 -1.3192338"
      ]
     },
     "metadata": {},
     "output_type": "display_data"
    },
    {
     "data": {
      "text/html": [
       "<table class=\"dataframe\">\n",
       "<caption>A grouped_df: 9 × 8</caption>\n",
       "<thead>\n",
       "\t<tr><th scope=col>season</th><th scope=col>passer_player_id</th><th scope=col>passer_player_name</th><th scope=col>attempts</th><th scope=col>total_passing_yards</th><th scope=col>ypa</th><th scope=col>pyoe_total</th><th scope=col>pyoe_per</th></tr>\n",
       "\t<tr><th scope=col>&lt;int&gt;</th><th scope=col>&lt;chr&gt;</th><th scope=col>&lt;chr&gt;</th><th scope=col>&lt;int&gt;</th><th scope=col>&lt;dbl&gt;</th><th scope=col>&lt;dbl&gt;</th><th scope=col>&lt;dbl&gt;</th><th scope=col>&lt;dbl&gt;</th></tr>\n",
       "</thead>\n",
       "<tbody>\n",
       "\t<tr><td>2024</td><td>00-0036389</td><td>J.Hurts   </td><td>503</td><td>3629</td><td>7.214712</td><td> 340.12594</td><td> 0.67619470</td></tr>\n",
       "\t<tr><td>2023</td><td>00-0033077</td><td>D.Prescott</td><td>695</td><td>4919</td><td>7.077698</td><td> 405.16826</td><td> 0.58297591</td></tr>\n",
       "\t<tr><td>2024</td><td>00-0039910</td><td>J.Daniels </td><td>648</td><td>4390</td><td>6.774691</td><td> 166.95047</td><td> 0.25763961</td></tr>\n",
       "\t<tr><td>2023</td><td>00-0036389</td><td>J.Hurts   </td><td>613</td><td>4108</td><td>6.701468</td><td>  93.59123</td><td> 0.15267738</td></tr>\n",
       "\t<tr><td>2024</td><td>00-0033077</td><td>D.Prescott</td><td>307</td><td>1978</td><td>6.442997</td><td> -28.82281</td><td>-0.09388538</td></tr>\n",
       "\t<tr><td>2023</td><td>00-0037077</td><td>S.Howell  </td><td>679</td><td>3946</td><td>5.811487</td><td>-483.25996</td><td>-0.71172306</td></tr>\n",
       "\t<tr><td>2024</td><td>00-0033662</td><td>C.Rush    </td><td>321</td><td>1844</td><td>5.744548</td><td>-252.99156</td><td>-0.78813571</td></tr>\n",
       "\t<tr><td>2024</td><td>00-0035710</td><td>D.Jones   </td><td>371</td><td>2070</td><td>5.579515</td><td>-353.53259</td><td>-0.95291804</td></tr>\n",
       "\t<tr><td>2023</td><td>00-0038476</td><td>T.DeVito  </td><td>215</td><td>1101</td><td>5.120930</td><td>-324.06129</td><td>-1.50726181</td></tr>\n",
       "</tbody>\n",
       "</table>\n"
      ],
      "text/latex": [
       "A grouped\\_df: 9 × 8\n",
       "\\begin{tabular}{llllllll}\n",
       " season & passer\\_player\\_id & passer\\_player\\_name & attempts & total\\_passing\\_yards & ypa & pyoe\\_total & pyoe\\_per\\\\\n",
       " <int> & <chr> & <chr> & <int> & <dbl> & <dbl> & <dbl> & <dbl>\\\\\n",
       "\\hline\n",
       "\t 2024 & 00-0036389 & J.Hurts    & 503 & 3629 & 7.214712 &  340.12594 &  0.67619470\\\\\n",
       "\t 2023 & 00-0033077 & D.Prescott & 695 & 4919 & 7.077698 &  405.16826 &  0.58297591\\\\\n",
       "\t 2024 & 00-0039910 & J.Daniels  & 648 & 4390 & 6.774691 &  166.95047 &  0.25763961\\\\\n",
       "\t 2023 & 00-0036389 & J.Hurts    & 613 & 4108 & 6.701468 &   93.59123 &  0.15267738\\\\\n",
       "\t 2024 & 00-0033077 & D.Prescott & 307 & 1978 & 6.442997 &  -28.82281 & -0.09388538\\\\\n",
       "\t 2023 & 00-0037077 & S.Howell   & 679 & 3946 & 5.811487 & -483.25996 & -0.71172306\\\\\n",
       "\t 2024 & 00-0033662 & C.Rush     & 321 & 1844 & 5.744548 & -252.99156 & -0.78813571\\\\\n",
       "\t 2024 & 00-0035710 & D.Jones    & 371 & 2070 & 5.579515 & -353.53259 & -0.95291804\\\\\n",
       "\t 2023 & 00-0038476 & T.DeVito   & 215 & 1101 & 5.120930 & -324.06129 & -1.50726181\\\\\n",
       "\\end{tabular}\n"
      ],
      "text/markdown": [
       "\n",
       "A grouped_df: 9 × 8\n",
       "\n",
       "| season &lt;int&gt; | passer_player_id &lt;chr&gt; | passer_player_name &lt;chr&gt; | attempts &lt;int&gt; | total_passing_yards &lt;dbl&gt; | ypa &lt;dbl&gt; | pyoe_total &lt;dbl&gt; | pyoe_per &lt;dbl&gt; |\n",
       "|---|---|---|---|---|---|---|---|\n",
       "| 2024 | 00-0036389 | J.Hurts    | 503 | 3629 | 7.214712 |  340.12594 |  0.67619470 |\n",
       "| 2023 | 00-0033077 | D.Prescott | 695 | 4919 | 7.077698 |  405.16826 |  0.58297591 |\n",
       "| 2024 | 00-0039910 | J.Daniels  | 648 | 4390 | 6.774691 |  166.95047 |  0.25763961 |\n",
       "| 2023 | 00-0036389 | J.Hurts    | 613 | 4108 | 6.701468 |   93.59123 |  0.15267738 |\n",
       "| 2024 | 00-0033077 | D.Prescott | 307 | 1978 | 6.442997 |  -28.82281 | -0.09388538 |\n",
       "| 2023 | 00-0037077 | S.Howell   | 679 | 3946 | 5.811487 | -483.25996 | -0.71172306 |\n",
       "| 2024 | 00-0033662 | C.Rush     | 321 | 1844 | 5.744548 | -252.99156 | -0.78813571 |\n",
       "| 2024 | 00-0035710 | D.Jones    | 371 | 2070 | 5.579515 | -353.53259 | -0.95291804 |\n",
       "| 2023 | 00-0038476 | T.DeVito   | 215 | 1101 | 5.120930 | -324.06129 | -1.50726181 |\n",
       "\n"
      ],
      "text/plain": [
       "  season passer_player_id passer_player_name attempts total_passing_yards\n",
       "1 2024   00-0036389       J.Hurts            503      3629               \n",
       "2 2023   00-0033077       D.Prescott         695      4919               \n",
       "3 2024   00-0039910       J.Daniels          648      4390               \n",
       "4 2023   00-0036389       J.Hurts            613      4108               \n",
       "5 2024   00-0033077       D.Prescott         307      1978               \n",
       "6 2023   00-0037077       S.Howell           679      3946               \n",
       "7 2024   00-0033662       C.Rush             321      1844               \n",
       "8 2024   00-0035710       D.Jones            371      2070               \n",
       "9 2023   00-0038476       T.DeVito           215      1101               \n",
       "  ypa      pyoe_total pyoe_per   \n",
       "1 7.214712  340.12594  0.67619470\n",
       "2 7.077698  405.16826  0.58297591\n",
       "3 6.774691  166.95047  0.25763961\n",
       "4 6.701468   93.59123  0.15267738\n",
       "5 6.442997  -28.82281 -0.09388538\n",
       "6 5.811487 -483.25996 -0.71172306\n",
       "7 5.744548 -252.99156 -0.78813571\n",
       "8 5.579515 -353.53259 -0.95291804\n",
       "9 5.120930 -324.06129 -1.50726181"
      ]
     },
     "metadata": {},
     "output_type": "display_data"
    }
   ],
   "source": [
    "nfc_north_pyoe |>\n",
    "    arrange(-pyoe_per)\n",
    "\n",
    "nfc_east_pyoe |>\n",
    "    arrange(-pyoe_per)\n"
   ]
  },
  {
   "cell_type": "code",
   "execution_count": 239,
   "id": "fc2c536b",
   "metadata": {
    "vscode": {
     "languageId": "r"
    }
   },
   "outputs": [],
   "source": [
    "## Create current dataframes\n",
    "nfc_north_pyoe_now <- nfc_north_pyoe |>\n",
    "    select(-attempts, -pyoe_total)\n",
    "\n",
    "nfc_east_pyoe_now <- nfc_east_pyoe |>\n",
    "    select(-attempts, -pyoe_total)"
   ]
  },
  {
   "cell_type": "code",
   "execution_count": 240,
   "id": "2627e9a2",
   "metadata": {
    "vscode": {
     "languageId": "r"
    }
   },
   "outputs": [],
   "source": [
    "## Create lag data\n",
    "nfc_north_pyoe_last <- nfc_north_pyoe |>\n",
    "    select(-attempts, -pyoe_total) |>\n",
    "    mutate(season = season + 1) |>\n",
    "    rename(pyoe_per_last = pyoe_per,\n",
    "           ypa_last = ypa)\n",
    "\n",
    "nfc_east_pyoe_last <- nfc_east_pyoe |>\n",
    "    select(-attempts, -pyoe_total) |>\n",
    "    mutate(season = season + 1) |>\n",
    "    rename(pyoe_per_last = pyoe_per,\n",
    "           ypa_last = ypa)"
   ]
  },
  {
   "cell_type": "code",
   "execution_count": 241,
   "id": "4007e01f",
   "metadata": {
    "vscode": {
     "languageId": "r"
    }
   },
   "outputs": [],
   "source": [
    "## Merge data\n",
    "nfc_north_pyoe_lag <- nfc_north_pyoe_now |>\n",
    "    inner_join(nfc_north_pyoe_last,\n",
    "               by = c('passer_player_id', 'passer_player_name', 'season')) |>\n",
    "               ungroup()\n",
    "\n",
    "nfc_east_pyoe_lag <- nfc_east_pyoe_now |>\n",
    "    inner_join(nfc_east_pyoe_last,\n",
    "               by = c('passer_player_id', 'passer_player_name', 'season')) |>\n",
    "               ungroup()"
   ]
  },
  {
   "cell_type": "code",
   "execution_count": 242,
   "id": "20c27f7c",
   "metadata": {
    "vscode": {
     "languageId": "r"
    }
   },
   "outputs": [
    {
     "data": {
      "text/html": [
       "<table class=\"dataframe\">\n",
       "<caption>A tibble: 2 × 9</caption>\n",
       "<thead>\n",
       "\t<tr><th scope=col>season</th><th scope=col>passer_player_id</th><th scope=col>passer_player_name</th><th scope=col>total_passing_yards.x</th><th scope=col>ypa</th><th scope=col>pyoe_per</th><th scope=col>total_passing_yards.y</th><th scope=col>ypa_last</th><th scope=col>pyoe_per_last</th></tr>\n",
       "\t<tr><th scope=col>&lt;dbl&gt;</th><th scope=col>&lt;chr&gt;</th><th scope=col>&lt;chr&gt;</th><th scope=col>&lt;dbl&gt;</th><th scope=col>&lt;dbl&gt;</th><th scope=col>&lt;dbl&gt;</th><th scope=col>&lt;dbl&gt;</th><th scope=col>&lt;dbl&gt;</th><th scope=col>&lt;dbl&gt;</th></tr>\n",
       "</thead>\n",
       "<tbody>\n",
       "\t<tr><td>2024</td><td>00-0033106</td><td>J.Goff</td><td>4942</td><td>8.141680</td><td>1.3301123</td><td>5412</td><td>7.177719</td><td>0.3543403</td></tr>\n",
       "\t<tr><td>2024</td><td>00-0036264</td><td>J.Love</td><td>3601</td><td>7.549266</td><td>0.6997443</td><td>4625</td><td>6.954887</td><td>0.1307050</td></tr>\n",
       "</tbody>\n",
       "</table>\n"
      ],
      "text/latex": [
       "A tibble: 2 × 9\n",
       "\\begin{tabular}{lllllllll}\n",
       " season & passer\\_player\\_id & passer\\_player\\_name & total\\_passing\\_yards.x & ypa & pyoe\\_per & total\\_passing\\_yards.y & ypa\\_last & pyoe\\_per\\_last\\\\\n",
       " <dbl> & <chr> & <chr> & <dbl> & <dbl> & <dbl> & <dbl> & <dbl> & <dbl>\\\\\n",
       "\\hline\n",
       "\t 2024 & 00-0033106 & J.Goff & 4942 & 8.141680 & 1.3301123 & 5412 & 7.177719 & 0.3543403\\\\\n",
       "\t 2024 & 00-0036264 & J.Love & 3601 & 7.549266 & 0.6997443 & 4625 & 6.954887 & 0.1307050\\\\\n",
       "\\end{tabular}\n"
      ],
      "text/markdown": [
       "\n",
       "A tibble: 2 × 9\n",
       "\n",
       "| season &lt;dbl&gt; | passer_player_id &lt;chr&gt; | passer_player_name &lt;chr&gt; | total_passing_yards.x &lt;dbl&gt; | ypa &lt;dbl&gt; | pyoe_per &lt;dbl&gt; | total_passing_yards.y &lt;dbl&gt; | ypa_last &lt;dbl&gt; | pyoe_per_last &lt;dbl&gt; |\n",
       "|---|---|---|---|---|---|---|---|---|\n",
       "| 2024 | 00-0033106 | J.Goff | 4942 | 8.141680 | 1.3301123 | 5412 | 7.177719 | 0.3543403 |\n",
       "| 2024 | 00-0036264 | J.Love | 3601 | 7.549266 | 0.6997443 | 4625 | 6.954887 | 0.1307050 |\n",
       "\n"
      ],
      "text/plain": [
       "  season passer_player_id passer_player_name total_passing_yards.x ypa     \n",
       "1 2024   00-0033106       J.Goff             4942                  8.141680\n",
       "2 2024   00-0036264       J.Love             3601                  7.549266\n",
       "  pyoe_per  total_passing_yards.y ypa_last pyoe_per_last\n",
       "1 1.3301123 5412                  7.177719 0.3543403    \n",
       "2 0.6997443 4625                  6.954887 0.1307050    "
      ]
     },
     "metadata": {},
     "output_type": "display_data"
    },
    {
     "data": {
      "text/html": [
       "<table class=\"dataframe\">\n",
       "<caption>A tibble: 2 × 9</caption>\n",
       "<thead>\n",
       "\t<tr><th scope=col>season</th><th scope=col>passer_player_id</th><th scope=col>passer_player_name</th><th scope=col>total_passing_yards.x</th><th scope=col>ypa</th><th scope=col>pyoe_per</th><th scope=col>total_passing_yards.y</th><th scope=col>ypa_last</th><th scope=col>pyoe_per_last</th></tr>\n",
       "\t<tr><th scope=col>&lt;dbl&gt;</th><th scope=col>&lt;chr&gt;</th><th scope=col>&lt;chr&gt;</th><th scope=col>&lt;dbl&gt;</th><th scope=col>&lt;dbl&gt;</th><th scope=col>&lt;dbl&gt;</th><th scope=col>&lt;dbl&gt;</th><th scope=col>&lt;dbl&gt;</th><th scope=col>&lt;dbl&gt;</th></tr>\n",
       "</thead>\n",
       "<tbody>\n",
       "\t<tr><td>2024</td><td>00-0036389</td><td>J.Hurts   </td><td>3629</td><td>7.214712</td><td> 0.67619470</td><td>4108</td><td>6.701468</td><td>0.1526774</td></tr>\n",
       "\t<tr><td>2024</td><td>00-0033077</td><td>D.Prescott</td><td>1978</td><td>6.442997</td><td>-0.09388538</td><td>4919</td><td>7.077698</td><td>0.5829759</td></tr>\n",
       "</tbody>\n",
       "</table>\n"
      ],
      "text/latex": [
       "A tibble: 2 × 9\n",
       "\\begin{tabular}{lllllllll}\n",
       " season & passer\\_player\\_id & passer\\_player\\_name & total\\_passing\\_yards.x & ypa & pyoe\\_per & total\\_passing\\_yards.y & ypa\\_last & pyoe\\_per\\_last\\\\\n",
       " <dbl> & <chr> & <chr> & <dbl> & <dbl> & <dbl> & <dbl> & <dbl> & <dbl>\\\\\n",
       "\\hline\n",
       "\t 2024 & 00-0036389 & J.Hurts    & 3629 & 7.214712 &  0.67619470 & 4108 & 6.701468 & 0.1526774\\\\\n",
       "\t 2024 & 00-0033077 & D.Prescott & 1978 & 6.442997 & -0.09388538 & 4919 & 7.077698 & 0.5829759\\\\\n",
       "\\end{tabular}\n"
      ],
      "text/markdown": [
       "\n",
       "A tibble: 2 × 9\n",
       "\n",
       "| season &lt;dbl&gt; | passer_player_id &lt;chr&gt; | passer_player_name &lt;chr&gt; | total_passing_yards.x &lt;dbl&gt; | ypa &lt;dbl&gt; | pyoe_per &lt;dbl&gt; | total_passing_yards.y &lt;dbl&gt; | ypa_last &lt;dbl&gt; | pyoe_per_last &lt;dbl&gt; |\n",
       "|---|---|---|---|---|---|---|---|---|\n",
       "| 2024 | 00-0036389 | J.Hurts    | 3629 | 7.214712 |  0.67619470 | 4108 | 6.701468 | 0.1526774 |\n",
       "| 2024 | 00-0033077 | D.Prescott | 1978 | 6.442997 | -0.09388538 | 4919 | 7.077698 | 0.5829759 |\n",
       "\n"
      ],
      "text/plain": [
       "  season passer_player_id passer_player_name total_passing_yards.x ypa     \n",
       "1 2024   00-0036389       J.Hurts            3629                  7.214712\n",
       "2 2024   00-0033077       D.Prescott         1978                  6.442997\n",
       "  pyoe_per    total_passing_yards.y ypa_last pyoe_per_last\n",
       "1  0.67619470 4108                  6.701468 0.1526774    \n",
       "2 -0.09388538 4919                  7.077698 0.5829759    "
      ]
     },
     "metadata": {},
     "output_type": "display_data"
    }
   ],
   "source": [
    "head(nfc_north_pyoe_lag)\n",
    "head(nfc_east_pyoe_lag)"
   ]
  },
  {
   "cell_type": "code",
   "execution_count": 243,
   "id": "9ff268df",
   "metadata": {
    "vscode": {
     "languageId": "r"
    }
   },
   "outputs": [
    {
     "data": {
      "text/html": [
       "<table class=\"dataframe\">\n",
       "<caption>A matrix: 2 × 2 of type dbl</caption>\n",
       "<thead>\n",
       "\t<tr><th></th><th scope=col>ypa</th><th scope=col>ypa_last</th></tr>\n",
       "</thead>\n",
       "<tbody>\n",
       "\t<tr><th scope=row>ypa</th><td>1</td><td>1</td></tr>\n",
       "\t<tr><th scope=row>ypa_last</th><td>1</td><td>1</td></tr>\n",
       "</tbody>\n",
       "</table>\n"
      ],
      "text/latex": [
       "A matrix: 2 × 2 of type dbl\n",
       "\\begin{tabular}{r|ll}\n",
       "  & ypa & ypa\\_last\\\\\n",
       "\\hline\n",
       "\typa & 1 & 1\\\\\n",
       "\typa\\_last & 1 & 1\\\\\n",
       "\\end{tabular}\n"
      ],
      "text/markdown": [
       "\n",
       "A matrix: 2 × 2 of type dbl\n",
       "\n",
       "| <!--/--> | ypa | ypa_last |\n",
       "|---|---|---|\n",
       "| ypa | 1 | 1 |\n",
       "| ypa_last | 1 | 1 |\n",
       "\n"
      ],
      "text/plain": [
       "         ypa ypa_last\n",
       "ypa      1   1       \n",
       "ypa_last 1   1       "
      ]
     },
     "metadata": {},
     "output_type": "display_data"
    },
    {
     "data": {
      "text/html": [
       "<table class=\"dataframe\">\n",
       "<caption>A matrix: 2 × 2 of type dbl</caption>\n",
       "<thead>\n",
       "\t<tr><th></th><th scope=col>ypa</th><th scope=col>ypa_last</th></tr>\n",
       "</thead>\n",
       "<tbody>\n",
       "\t<tr><th scope=row>ypa</th><td> 1</td><td>-1</td></tr>\n",
       "\t<tr><th scope=row>ypa_last</th><td>-1</td><td> 1</td></tr>\n",
       "</tbody>\n",
       "</table>\n"
      ],
      "text/latex": [
       "A matrix: 2 × 2 of type dbl\n",
       "\\begin{tabular}{r|ll}\n",
       "  & ypa & ypa\\_last\\\\\n",
       "\\hline\n",
       "\typa &  1 & -1\\\\\n",
       "\typa\\_last & -1 &  1\\\\\n",
       "\\end{tabular}\n"
      ],
      "text/markdown": [
       "\n",
       "A matrix: 2 × 2 of type dbl\n",
       "\n",
       "| <!--/--> | ypa | ypa_last |\n",
       "|---|---|---|\n",
       "| ypa |  1 | -1 |\n",
       "| ypa_last | -1 |  1 |\n",
       "\n"
      ],
      "text/plain": [
       "         ypa ypa_last\n",
       "ypa       1  -1      \n",
       "ypa_last -1   1      "
      ]
     },
     "metadata": {},
     "output_type": "display_data"
    }
   ],
   "source": [
    "## ypa vs ypa last\n",
    "nfc_north_pyoe_lag |>\n",
    "    select(ypa, ypa_last) |>\n",
    "    cor(use = \"complete.obs\")\n",
    "\n",
    "nfc_east_pyoe_lag |>\n",
    "    select(ypa, ypa_last) |>\n",
    "    cor(use = \"complete.obs\")"
   ]
  },
  {
   "cell_type": "code",
   "execution_count": 244,
   "id": "b009f657",
   "metadata": {
    "vscode": {
     "languageId": "r"
    }
   },
   "outputs": [
    {
     "data": {
      "text/html": [
       "<table class=\"dataframe\">\n",
       "<caption>A matrix: 2 × 2 of type dbl</caption>\n",
       "<thead>\n",
       "\t<tr><th></th><th scope=col>pyoe_per</th><th scope=col>pyoe_per_last</th></tr>\n",
       "</thead>\n",
       "<tbody>\n",
       "\t<tr><th scope=row>pyoe_per</th><td>1</td><td>1</td></tr>\n",
       "\t<tr><th scope=row>pyoe_per_last</th><td>1</td><td>1</td></tr>\n",
       "</tbody>\n",
       "</table>\n"
      ],
      "text/latex": [
       "A matrix: 2 × 2 of type dbl\n",
       "\\begin{tabular}{r|ll}\n",
       "  & pyoe\\_per & pyoe\\_per\\_last\\\\\n",
       "\\hline\n",
       "\tpyoe\\_per & 1 & 1\\\\\n",
       "\tpyoe\\_per\\_last & 1 & 1\\\\\n",
       "\\end{tabular}\n"
      ],
      "text/markdown": [
       "\n",
       "A matrix: 2 × 2 of type dbl\n",
       "\n",
       "| <!--/--> | pyoe_per | pyoe_per_last |\n",
       "|---|---|---|\n",
       "| pyoe_per | 1 | 1 |\n",
       "| pyoe_per_last | 1 | 1 |\n",
       "\n"
      ],
      "text/plain": [
       "              pyoe_per pyoe_per_last\n",
       "pyoe_per      1        1            \n",
       "pyoe_per_last 1        1            "
      ]
     },
     "metadata": {},
     "output_type": "display_data"
    },
    {
     "data": {
      "text/html": [
       "<table class=\"dataframe\">\n",
       "<caption>A matrix: 2 × 2 of type dbl</caption>\n",
       "<thead>\n",
       "\t<tr><th></th><th scope=col>pyoe_per</th><th scope=col>pyoe_per_last</th></tr>\n",
       "</thead>\n",
       "<tbody>\n",
       "\t<tr><th scope=row>pyoe_per</th><td> 1</td><td>-1</td></tr>\n",
       "\t<tr><th scope=row>pyoe_per_last</th><td>-1</td><td> 1</td></tr>\n",
       "</tbody>\n",
       "</table>\n"
      ],
      "text/latex": [
       "A matrix: 2 × 2 of type dbl\n",
       "\\begin{tabular}{r|ll}\n",
       "  & pyoe\\_per & pyoe\\_per\\_last\\\\\n",
       "\\hline\n",
       "\tpyoe\\_per &  1 & -1\\\\\n",
       "\tpyoe\\_per\\_last & -1 &  1\\\\\n",
       "\\end{tabular}\n"
      ],
      "text/markdown": [
       "\n",
       "A matrix: 2 × 2 of type dbl\n",
       "\n",
       "| <!--/--> | pyoe_per | pyoe_per_last |\n",
       "|---|---|---|\n",
       "| pyoe_per |  1 | -1 |\n",
       "| pyoe_per_last | -1 |  1 |\n",
       "\n"
      ],
      "text/plain": [
       "              pyoe_per pyoe_per_last\n",
       "pyoe_per       1       -1           \n",
       "pyoe_per_last -1        1           "
      ]
     },
     "metadata": {},
     "output_type": "display_data"
    }
   ],
   "source": [
    "## PYOE vs PYOE last\n",
    "nfc_north_pyoe_lag |>\n",
    "    select(pyoe_per, pyoe_per_last) |>\n",
    "    cor(use = \"complete.obs\")\n",
    "\n",
    "nfc_east_pyoe_lag |>\n",
    "    select(pyoe_per, pyoe_per_last) |>\n",
    "    cor(use = \"complete.obs\")"
   ]
  },
  {
   "cell_type": "markdown",
   "id": "8882c70f",
   "metadata": {},
   "source": [
    "## Results"
   ]
  },
  {
   "cell_type": "code",
   "execution_count": 246,
   "id": "3b07a474",
   "metadata": {
    "vscode": {
     "languageId": "r"
    }
   },
   "outputs": [
    {
     "data": {
      "image/png": "[encoded data removed]",
      "text/plain": [
       "plot without title"
      ]
     },
     "metadata": {
      "image/png": {
       "height": 420,
       "width": 420
      }
     },
     "output_type": "display_data"
    },
    {
     "data": {
      "image/png": "[encoded data removed]",
      "text/plain": [
       "plot without title"
      ]
     },
     "metadata": {
      "image/png": {
       "height": 420,
       "width": 420
      }
     },
     "output_type": "display_data"
    }
   ],
   "source": [
    "## Chart: Actual vs Expected Passing Yards by Yards to Go (NFC North)\n",
    "nfc_north_y2g <- pbp_p_nfc_north |>\n",
    "    group_by(ydstogo) |>\n",
    "    summarize(actual = mean(passing_yards, na.rm = TRUE),\n",
    "              expected = mean(passing_yards - pyoe, na.rm = TRUE))\n",
    "\n",
    "ggplot(nfc_north_y2g, aes(x = ydstogo)) +\n",
    "    geom_line(aes(y = actual, color = 'Actual')) +\n",
    "    geom_line(aes(y = expected, color = 'Expected')) +\n",
    "    labs(title = 'NFC North: Actual vs Expected Passing Yards by Yards to Go',\n",
    "         x = 'Yards to Go',\n",
    "         y = 'Passing Yards',\n",
    "         color = '') +\n",
    "    theme_bw()\n",
    "    \n",
    "## Chart: Actual vs Expected Passing Yards by Yards to Go (NFC East)\n",
    "nfc_east_y2g <- pbp_p_nfc_east |>\n",
    "    group_by(ydstogo) |>\n",
    "    summarize(actual = mean(passing_yards, na.rm = TRUE),\n",
    "              expected = mean(passing_yards - pyoe, na.rm = TRUE))\n",
    "ggplot(nfc_east_y2g, aes(x = ydstogo)) +\n",
    "    geom_line(aes(y = actual, color = 'Actual')) +\n",
    "    geom_line(aes(y = expected, color = 'Expected')) +\n",
    "    labs(title = 'NFC East: Actual vs Expected Passing Yards by Yards to Go',\n",
    "         x = 'Yards to Go',\n",
    "         y = 'Passing Yards',\n",
    "         color = '') +\n",
    "    theme_bw()"
   ]
  },
  {
   "cell_type": "markdown",
   "id": "d073df5a",
   "metadata": {},
   "source": [
    "# Conclusion\n",
    "As I expected, no pun intended, passing yards can vary because of so many existential factors that play into throwing the football. Unfortunately, the game of football would be so much more easier to manage if we could scheme passing against a certain down and distance, but that's not very realistic. I think what this also shows is that while having a higher PYOE does tend to lead to throwing more passing yards, it's mostly all subjective. A better solution to this problem would be using some sort of unsupervised machine learning method, that can better identify patterns and consistencies within passing data."
   ]
  }
 ],
 "metadata": {
  "kernelspec": {
   "display_name": "R 4.5.1",
   "language": "R",
   "name": "ir-4.5.1"
  },
  "language_info": {
   "codemirror_mode": "r",
   "file_extension": ".r",
   "mimetype": "text/x-r-source",
   "name": "R",
   "pygments_lexer": "r",
   "version": "4.5.1"
  }
 },
 "nbformat": 4,
 "nbformat_minor": 5
}
